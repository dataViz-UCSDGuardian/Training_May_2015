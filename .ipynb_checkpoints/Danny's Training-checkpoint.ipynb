{
 "cells": [
  {
   "cell_type": "code",
   "execution_count": 3,
   "metadata": {
    "collapsed": false
   },
   "outputs": [
    {
     "name": "stdout",
     "output_type": "stream",
     "text": [
      "Grants and Contracts\n",
      "Grants and Contracts\n"
     ]
    }
   ],
   "source": [
    "import openpyxl as op\n",
    "\n",
    "dataFromExcel = op.load_workbook('finance_and_giving.xlsx')\n",
    "sheet1=dataFromExcel.get_sheet_by_name(\"12.1.1\")\n",
    "\n",
    "print(sheet1.cell(row=4,column=2).value)\n",
    "print(sheet1['B4'].value)\n",
    "\n",
    "\n"
   ]
  },
  {
   "cell_type": "raw",
   "metadata": {},
   "source": [
    "yrs=[]\n",
    "y"
   ]
  }
 ],
 "metadata": {
  "kernelspec": {
   "display_name": "Python 3",
   "language": "python",
   "name": "python3"
  },
  "language_info": {
   "codemirror_mode": {
    "name": "ipython",
    "version": 3
   },
   "file_extension": ".py",
   "mimetype": "text/x-python",
   "name": "python",
   "nbconvert_exporter": "python",
   "pygments_lexer": "ipython3",
   "version": "3.5.1"
  }
 },
 "nbformat": 4,
 "nbformat_minor": 0
}
